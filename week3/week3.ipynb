{
 "cells": [
  {
   "cell_type": "code",
   "execution_count": 1,
   "metadata": {
    "collapsed": true
   },
   "outputs": [],
   "source": [
    "import pandas as pd\n",
    "import numpy as np\n",
    "import os\n",
    "import matplotlib.pyplot as plt \n",
    "import seaborn"
   ]
  },
  {
   "cell_type": "markdown",
   "metadata": {},
   "source": [
    "### read data and pickle it all "
   ]
  },
  {
   "cell_type": "code",
   "execution_count": 2,
   "metadata": {
    "collapsed": true
   },
   "outputs": [],
   "source": [
    "def read_data():\n",
    "    data = pd.read_csv('/home/data-sci/Desktop/analysis/course/nesarc_pds.csv',low_memory=False)\n",
    "#     data.rename(columns={'S1Q4A': 'age_afm','S1Q2J':'age','S1Q6A': 'edu'}, inplace=True)\n",
    "                          \n",
    "    return data"
   ]
  },
  {
   "cell_type": "code",
   "execution_count": 20,
   "metadata": {
    "collapsed": true
   },
   "outputs": [],
   "source": [
    "def pickle_data(data):\n",
    "    data.to_pickle('cleaned_data.pickle')\n",
    "\n",
    "\n",
    "def get_pickle():\n",
    "    return pd.read_pickle('cleaned_data.pickle')\n"
   ]
  },
  {
   "cell_type": "code",
   "execution_count": 4,
   "metadata": {
    "collapsed": false
   },
   "outputs": [],
   "source": [
    "def the_data():\n",
    "    \"\"\"this function will check for the pickle file if not fond\n",
    "    it will read the csv file then pickle it  \"\"\"\n",
    "    if os.path.isfile('cleaned_data.pickle'):\n",
    "        data = get_pickle()\n",
    "\n",
    "    else:\n",
    "        data = read_data()\n",
    "        pickle_data(data)\n",
    "    return data\n"
   ]
  },
  {
   "cell_type": "code",
   "execution_count": 5,
   "metadata": {
    "collapsed": false
   },
   "outputs": [],
   "source": [
    "data = the_data()"
   ]
  },
  {
   "cell_type": "code",
   "execution_count": 6,
   "metadata": {
    "collapsed": false
   },
   "outputs": [
    {
     "data": {
      "text/plain": [
       "(43093, 3008)"
      ]
     },
     "execution_count": 6,
     "metadata": {},
     "output_type": "execute_result"
    }
   ],
   "source": [
    "data.shape"
   ]
  },
  {
   "cell_type": "code",
   "execution_count": 20,
   "metadata": {
    "collapsed": false
   },
   "outputs": [
    {
     "data": {
      "text/html": [
       "<div>\n",
       "<table border=\"1\" class=\"dataframe\">\n",
       "  <thead>\n",
       "    <tr style=\"text-align: right;\">\n",
       "      <th></th>\n",
       "      <th>age_afm</th>\n",
       "      <th>edu</th>\n",
       "      <th>consumer</th>\n",
       "      <th>h_often_12m</th>\n",
       "      <th>h_often_5beer_12m</th>\n",
       "    </tr>\n",
       "  </thead>\n",
       "  <tbody>\n",
       "    <tr>\n",
       "      <th>0</th>\n",
       "      <td></td>\n",
       "      <td>8</td>\n",
       "      <td>3</td>\n",
       "      <td></td>\n",
       "      <td></td>\n",
       "    </tr>\n",
       "    <tr>\n",
       "      <th>1</th>\n",
       "      <td>23</td>\n",
       "      <td>8</td>\n",
       "      <td>1</td>\n",
       "      <td>10</td>\n",
       "      <td>11</td>\n",
       "    </tr>\n",
       "    <tr>\n",
       "      <th>2</th>\n",
       "      <td>35</td>\n",
       "      <td>6</td>\n",
       "      <td>3</td>\n",
       "      <td></td>\n",
       "      <td></td>\n",
       "    </tr>\n",
       "    <tr>\n",
       "      <th>3</th>\n",
       "      <td></td>\n",
       "      <td>8</td>\n",
       "      <td>2</td>\n",
       "      <td></td>\n",
       "      <td></td>\n",
       "    </tr>\n",
       "    <tr>\n",
       "      <th>4</th>\n",
       "      <td>22</td>\n",
       "      <td>12</td>\n",
       "      <td>2</td>\n",
       "      <td></td>\n",
       "      <td></td>\n",
       "    </tr>\n",
       "    <tr>\n",
       "      <th>5</th>\n",
       "      <td>26</td>\n",
       "      <td>14</td>\n",
       "      <td>1</td>\n",
       "      <td></td>\n",
       "      <td></td>\n",
       "    </tr>\n",
       "    <tr>\n",
       "      <th>6</th>\n",
       "      <td></td>\n",
       "      <td>10</td>\n",
       "      <td>1</td>\n",
       "      <td></td>\n",
       "      <td></td>\n",
       "    </tr>\n",
       "    <tr>\n",
       "      <th>7</th>\n",
       "      <td></td>\n",
       "      <td>8</td>\n",
       "      <td>1</td>\n",
       "      <td></td>\n",
       "      <td></td>\n",
       "    </tr>\n",
       "    <tr>\n",
       "      <th>8</th>\n",
       "      <td></td>\n",
       "      <td>12</td>\n",
       "      <td>1</td>\n",
       "      <td>9</td>\n",
       "      <td>11</td>\n",
       "    </tr>\n",
       "    <tr>\n",
       "      <th>9</th>\n",
       "      <td></td>\n",
       "      <td>8</td>\n",
       "      <td>1</td>\n",
       "      <td></td>\n",
       "      <td></td>\n",
       "    </tr>\n",
       "    <tr>\n",
       "      <th>10</th>\n",
       "      <td>24</td>\n",
       "      <td>8</td>\n",
       "      <td>1</td>\n",
       "      <td>7</td>\n",
       "      <td>11</td>\n",
       "    </tr>\n",
       "    <tr>\n",
       "      <th>11</th>\n",
       "      <td>23</td>\n",
       "      <td>10</td>\n",
       "      <td>1</td>\n",
       "      <td></td>\n",
       "      <td></td>\n",
       "    </tr>\n",
       "    <tr>\n",
       "      <th>12</th>\n",
       "      <td>25</td>\n",
       "      <td>12</td>\n",
       "      <td>1</td>\n",
       "      <td>7</td>\n",
       "      <td>10</td>\n",
       "    </tr>\n",
       "    <tr>\n",
       "      <th>13</th>\n",
       "      <td>24</td>\n",
       "      <td>10</td>\n",
       "      <td>1</td>\n",
       "      <td>4</td>\n",
       "      <td>5</td>\n",
       "    </tr>\n",
       "    <tr>\n",
       "      <th>14</th>\n",
       "      <td>21</td>\n",
       "      <td>8</td>\n",
       "      <td>1</td>\n",
       "      <td>3</td>\n",
       "      <td>11</td>\n",
       "    </tr>\n",
       "    <tr>\n",
       "      <th>15</th>\n",
       "      <td>18</td>\n",
       "      <td>14</td>\n",
       "      <td>2</td>\n",
       "      <td></td>\n",
       "      <td></td>\n",
       "    </tr>\n",
       "    <tr>\n",
       "      <th>16</th>\n",
       "      <td></td>\n",
       "      <td>13</td>\n",
       "      <td>1</td>\n",
       "      <td>10</td>\n",
       "      <td>11</td>\n",
       "    </tr>\n",
       "    <tr>\n",
       "      <th>17</th>\n",
       "      <td>37</td>\n",
       "      <td>8</td>\n",
       "      <td>2</td>\n",
       "      <td></td>\n",
       "      <td></td>\n",
       "    </tr>\n",
       "    <tr>\n",
       "      <th>18</th>\n",
       "      <td>16</td>\n",
       "      <td>7</td>\n",
       "      <td>1</td>\n",
       "      <td></td>\n",
       "      <td></td>\n",
       "    </tr>\n",
       "    <tr>\n",
       "      <th>19</th>\n",
       "      <td></td>\n",
       "      <td>11</td>\n",
       "      <td>1</td>\n",
       "      <td>6</td>\n",
       "      <td>11</td>\n",
       "    </tr>\n",
       "  </tbody>\n",
       "</table>\n",
       "</div>"
      ],
      "text/plain": [
       "   age_afm  edu  consumer h_often_12m h_often_5beer_12m\n",
       "0             8         3                              \n",
       "1       23    8         1          10                11\n",
       "2       35    6         3                              \n",
       "3             8         2                              \n",
       "4       22   12         2                              \n",
       "5       26   14         1                              \n",
       "6            10         1                              \n",
       "7             8         1                              \n",
       "8            12         1           9                11\n",
       "9             8         1                              \n",
       "10      24    8         1           7                11\n",
       "11      23   10         1                              \n",
       "12      25   12         1           7                10\n",
       "13      24   10         1           4                 5\n",
       "14      21    8         1           3                11\n",
       "15      18   14         2                              \n",
       "16           13         1          10                11\n",
       "17      37    8         2                              \n",
       "18      16    7         1                              \n",
       "19           11         1           6                11"
      ]
     },
     "execution_count": 20,
     "metadata": {},
     "output_type": "execute_result"
    }
   ],
   "source": [
    "data.head(20)"
   ]
  },
  {
   "cell_type": "code",
   "execution_count": 7,
   "metadata": {
    "collapsed": false
   },
   "outputs": [],
   "source": [
    "data2 = data[['MARITAL','S1Q4A','AGE','S1Q1C','S1Q1D1','S1Q1D2','S1Q1D3','S1Q1D4','S1Q1D5','S1Q4B','S1Q6A']]"
   ]
  },
  {
   "cell_type": "code",
   "execution_count": 8,
   "metadata": {
    "collapsed": false
   },
   "outputs": [],
   "source": [
    "del data"
   ]
  },
  {
   "cell_type": "code",
   "execution_count": 9,
   "metadata": {
    "collapsed": false
   },
   "outputs": [],
   "source": [
    "data2 = data2.rename(columns={'MARITAL':'marital','S1Q4A':'age_1st_mar',\n",
    "                      'AGE':'age','S1Q1C':'hispanich','S1Q1D1':'indian','S1Q1D2':'asian','S1Q1D3':'black','S1Q1D4':'HAWAIIAN','S1Q1D5':'WHITE','S1Q4B':'how_mar_ended','S1Q6A':'edu'})"
   ]
  },
  {
   "cell_type": "code",
   "execution_count": 10,
   "metadata": {
    "collapsed": false
   },
   "outputs": [
    {
     "data": {
      "text/plain": [
       "(43093, 11)"
      ]
     },
     "execution_count": 10,
     "metadata": {},
     "output_type": "execute_result"
    }
   ],
   "source": [
    "data2.shape"
   ]
  },
  {
   "cell_type": "code",
   "execution_count": 11,
   "metadata": {
    "collapsed": false
   },
   "outputs": [
    {
     "data": {
      "text/html": [
       "<div>\n",
       "<table border=\"1\" class=\"dataframe\">\n",
       "  <thead>\n",
       "    <tr style=\"text-align: right;\">\n",
       "      <th></th>\n",
       "      <th>marital</th>\n",
       "      <th>age_1st_mar</th>\n",
       "      <th>age</th>\n",
       "      <th>hispanich</th>\n",
       "      <th>indian</th>\n",
       "      <th>asian</th>\n",
       "      <th>black</th>\n",
       "      <th>HAWAIIAN</th>\n",
       "      <th>WHITE</th>\n",
       "      <th>how_mar_ended</th>\n",
       "      <th>edu</th>\n",
       "    </tr>\n",
       "  </thead>\n",
       "  <tbody>\n",
       "    <tr>\n",
       "      <th>0</th>\n",
       "      <td>6</td>\n",
       "      <td></td>\n",
       "      <td>23</td>\n",
       "      <td>1</td>\n",
       "      <td>2</td>\n",
       "      <td>2</td>\n",
       "      <td>2</td>\n",
       "      <td>2</td>\n",
       "      <td>1</td>\n",
       "      <td></td>\n",
       "      <td>8</td>\n",
       "    </tr>\n",
       "    <tr>\n",
       "      <th>1</th>\n",
       "      <td>1</td>\n",
       "      <td>23</td>\n",
       "      <td>28</td>\n",
       "      <td>1</td>\n",
       "      <td>2</td>\n",
       "      <td>2</td>\n",
       "      <td>2</td>\n",
       "      <td>2</td>\n",
       "      <td>1</td>\n",
       "      <td></td>\n",
       "      <td>8</td>\n",
       "    </tr>\n",
       "    <tr>\n",
       "      <th>2</th>\n",
       "      <td>3</td>\n",
       "      <td>35</td>\n",
       "      <td>81</td>\n",
       "      <td>1</td>\n",
       "      <td>2</td>\n",
       "      <td>2</td>\n",
       "      <td>2</td>\n",
       "      <td>2</td>\n",
       "      <td>1</td>\n",
       "      <td>2</td>\n",
       "      <td>6</td>\n",
       "    </tr>\n",
       "    <tr>\n",
       "      <th>3</th>\n",
       "      <td>6</td>\n",
       "      <td></td>\n",
       "      <td>18</td>\n",
       "      <td>1</td>\n",
       "      <td>2</td>\n",
       "      <td>2</td>\n",
       "      <td>2</td>\n",
       "      <td>2</td>\n",
       "      <td>1</td>\n",
       "      <td></td>\n",
       "      <td>8</td>\n",
       "    </tr>\n",
       "    <tr>\n",
       "      <th>4</th>\n",
       "      <td>1</td>\n",
       "      <td>22</td>\n",
       "      <td>36</td>\n",
       "      <td>2</td>\n",
       "      <td>2</td>\n",
       "      <td>2</td>\n",
       "      <td>1</td>\n",
       "      <td>2</td>\n",
       "      <td>2</td>\n",
       "      <td></td>\n",
       "      <td>12</td>\n",
       "    </tr>\n",
       "  </tbody>\n",
       "</table>\n",
       "</div>"
      ],
      "text/plain": [
       "   marital age_1st_mar  age  hispanich  indian  asian  black  HAWAIIAN  WHITE  \\\n",
       "0        6               23          1       2      2      2         2      1   \n",
       "1        1          23   28          1       2      2      2         2      1   \n",
       "2        3          35   81          1       2      2      2         2      1   \n",
       "3        6               18          1       2      2      2         2      1   \n",
       "4        1          22   36          2       2      2      1         2      2   \n",
       "\n",
       "  how_mar_ended  edu  \n",
       "0                  8  \n",
       "1                  8  \n",
       "2             2    6  \n",
       "3                  8  \n",
       "4                 12  "
      ]
     },
     "execution_count": 11,
     "metadata": {},
     "output_type": "execute_result"
    }
   ],
   "source": [
    "data2.head()"
   ]
  },
  {
   "cell_type": "markdown",
   "metadata": {},
   "source": [
    "#### convert all to numaric values "
   ]
  },
  {
   "cell_type": "code",
   "execution_count": null,
   "metadata": {
    "collapsed": true
   },
   "outputs": [],
   "source": [
    "def to_numaric(data):\n",
    "    for i in data.columns:\n",
    "        data[i] = data[i].convert_objects(convert_numeric=True)"
   ]
  },
  {
   "cell_type": "code",
   "execution_count": 12,
   "metadata": {
    "collapsed": false
   },
   "outputs": [
    {
     "data": {
      "text/plain": [
       "marital           int64\n",
       "age_1st_mar      object\n",
       "age               int64\n",
       "hispanich         int64\n",
       "indian            int64\n",
       "asian             int64\n",
       "black             int64\n",
       "HAWAIIAN          int64\n",
       "WHITE             int64\n",
       "how_mar_ended    object\n",
       "edu               int64\n",
       "dtype: object"
      ]
     },
     "execution_count": 12,
     "metadata": {},
     "output_type": "execute_result"
    }
   ],
   "source": [
    "data2.dtypes"
   ]
  },
  {
   "cell_type": "markdown",
   "metadata": {},
   "source": [
    "## print the frquancy of the values "
   ]
  },
  {
   "cell_type": "code",
   "execution_count": null,
   "metadata": {
    "collapsed": false,
    "scrolled": true
   },
   "outputs": [],
   "source": [
    "def distribution(var_data):\n",
    "    \"\"\"this function will print out the frequency\n",
    "    distribution for every variable in the data-frame   \"\"\"\n",
    "    #var_data = pd.to_numeric(var_data, errors='ignore')\n",
    "    print(\"the count of the values in {}\".format(var_data.name))\n",
    "    print(var_data.value_counts())\n",
    "    print(\"the % of every value in the {} variable  \".format(var_data.name))\n",
    "    print(var_data.value_counts(normalize=True))\n",
    "    print(\"-----------------------------------\")\n",
    "\n",
    "\n",
    "def print_dist():\n",
    "    # this function loops though the variables and print them out\n",
    "    for i in data2.columns:\n",
    "        print(distribution(data2[i]))\n",
    "\n",
    "\n",
    "print_dist()\n"
   ]
  },
  {
   "cell_type": "markdown",
   "metadata": {},
   "source": [
    "## 1- recoding unknown values"
   ]
  },
  {
   "cell_type": "markdown",
   "metadata": {},
   "source": [
    "from the variable \"how_mar_ended\" `HOW FIRST MARRIAGE ENDED` will code the `9` value from Unknown to NaN"
   ]
  },
  {
   "cell_type": "code",
   "execution_count": 13,
   "metadata": {
    "collapsed": false
   },
   "outputs": [],
   "source": [
    "data2['how_mar_ended'] = data2['how_mar_ended'].replace(9, np.nan)\n",
    "data2['age_1st_mar'] = data2['age_1st_mar'].replace(99, np.nan)"
   ]
  },
  {
   "cell_type": "code",
   "execution_count": 14,
   "metadata": {
    "collapsed": false
   },
   "outputs": [
    {
     "data": {
      "text/plain": [
       "1     4025\n",
       "9       98\n",
       "3      201\n",
       "2    10803\n",
       "     27966\n",
       "Name: how_mar_ended, dtype: int64"
      ]
     },
     "execution_count": 14,
     "metadata": {},
     "output_type": "execute_result"
    }
   ],
   "source": [
    "data2['how_mar_ended'].value_counts(sort=False, dropna=False)"
   ]
  },
  {
   "cell_type": "markdown",
   "metadata": {},
   "source": [
    "## 2- remaping values"
   ]
  },
  {
   "cell_type": "code",
   "execution_count": 15,
   "metadata": {
    "collapsed": false
   },
   "outputs": [],
   "source": [
    "\n",
    "#the first variable is 'marital'\n",
    "marital_remap_dict = {  1:'Married',\n",
    "                        2: 'Living with someone as if married',\n",
    "                        3: 'Widowed',\n",
    "                        4: 'Divorced',\n",
    "                        5: 'Separated',\n",
    "                        6: 'Never Married'\n",
    "                        \n",
    "                      }\n",
    "data2['marital'] =  data2['marital'].map(marital_remap_dict)\n",
    "\n",
    "#the second value will remap in the education level \n",
    "edu_remap_dict = {  1: 'No formal schooling',\n",
    "                    2: 'K, 1 or 2',\n",
    "                    3: '3 or 4',\n",
    "                    4: '5 or 6',\n",
    "                    5: '7',\n",
    "                    6: '8',\n",
    "                    7: '(grades 9-11)',\n",
    "                    8: 'Completed high school',\n",
    "                    9: ' degree',\n",
    "                    10: 'Some college (no degree)',\n",
    "                    11: 'technical 2-year degree',\n",
    "                    12: 'bachelor\\'s',\n",
    "                    14: 'master\\'s'\n",
    "                 }\n",
    "data2['edu'] =  data2['edu'].map(edu_remap_dict)\n"
   ]
  },
  {
   "cell_type": "code",
   "execution_count": 16,
   "metadata": {
    "collapsed": false
   },
   "outputs": [],
   "source": [
    "\n",
    "\n",
    "def ETHNICITY(row):\n",
    "    if row['hispanich'] == 1:\n",
    "        return 'hispanich'\n",
    "    if row['indian'] == 1:\n",
    "        return 'indian'\n",
    "    if row['asian'] == 1:\n",
    "        return 'asian'\n",
    "    if row['HAWAIIAN'] == 1:\n",
    "        return 'hawaian'\n",
    "    if row['WHITE'] == 1:\n",
    "        return 'white'\n",
    "    if row['black'] == 1:\n",
    "        return 'black'\n",
    "\n",
    "\n",
    "data2['ETHNICITY'] = data2.apply(lambda row: ETHNICITY(row), axis=1)\n",
    "    "
   ]
  },
  {
   "cell_type": "code",
   "execution_count": 17,
   "metadata": {
    "collapsed": false,
    "scrolled": true
   },
   "outputs": [
    {
     "data": {
      "text/html": [
       "<div>\n",
       "<table border=\"1\" class=\"dataframe\">\n",
       "  <thead>\n",
       "    <tr style=\"text-align: right;\">\n",
       "      <th></th>\n",
       "      <th>marital</th>\n",
       "      <th>age_1st_mar</th>\n",
       "      <th>age</th>\n",
       "      <th>hispanich</th>\n",
       "      <th>indian</th>\n",
       "      <th>asian</th>\n",
       "      <th>black</th>\n",
       "      <th>HAWAIIAN</th>\n",
       "      <th>WHITE</th>\n",
       "      <th>how_mar_ended</th>\n",
       "      <th>edu</th>\n",
       "      <th>ETHNICITY</th>\n",
       "    </tr>\n",
       "  </thead>\n",
       "  <tbody>\n",
       "    <tr>\n",
       "      <th>0</th>\n",
       "      <td>Never Married</td>\n",
       "      <td></td>\n",
       "      <td>23</td>\n",
       "      <td>1</td>\n",
       "      <td>2</td>\n",
       "      <td>2</td>\n",
       "      <td>2</td>\n",
       "      <td>2</td>\n",
       "      <td>1</td>\n",
       "      <td></td>\n",
       "      <td>Completed high school</td>\n",
       "      <td>hispanich</td>\n",
       "    </tr>\n",
       "    <tr>\n",
       "      <th>1</th>\n",
       "      <td>Married</td>\n",
       "      <td>23</td>\n",
       "      <td>28</td>\n",
       "      <td>1</td>\n",
       "      <td>2</td>\n",
       "      <td>2</td>\n",
       "      <td>2</td>\n",
       "      <td>2</td>\n",
       "      <td>1</td>\n",
       "      <td></td>\n",
       "      <td>Completed high school</td>\n",
       "      <td>hispanich</td>\n",
       "    </tr>\n",
       "    <tr>\n",
       "      <th>2</th>\n",
       "      <td>Widowed</td>\n",
       "      <td>35</td>\n",
       "      <td>81</td>\n",
       "      <td>1</td>\n",
       "      <td>2</td>\n",
       "      <td>2</td>\n",
       "      <td>2</td>\n",
       "      <td>2</td>\n",
       "      <td>1</td>\n",
       "      <td>2</td>\n",
       "      <td>8</td>\n",
       "      <td>hispanich</td>\n",
       "    </tr>\n",
       "    <tr>\n",
       "      <th>3</th>\n",
       "      <td>Never Married</td>\n",
       "      <td></td>\n",
       "      <td>18</td>\n",
       "      <td>1</td>\n",
       "      <td>2</td>\n",
       "      <td>2</td>\n",
       "      <td>2</td>\n",
       "      <td>2</td>\n",
       "      <td>1</td>\n",
       "      <td></td>\n",
       "      <td>Completed high school</td>\n",
       "      <td>hispanich</td>\n",
       "    </tr>\n",
       "    <tr>\n",
       "      <th>4</th>\n",
       "      <td>Married</td>\n",
       "      <td>22</td>\n",
       "      <td>36</td>\n",
       "      <td>2</td>\n",
       "      <td>2</td>\n",
       "      <td>2</td>\n",
       "      <td>1</td>\n",
       "      <td>2</td>\n",
       "      <td>2</td>\n",
       "      <td></td>\n",
       "      <td>bachelor's</td>\n",
       "      <td>black</td>\n",
       "    </tr>\n",
       "  </tbody>\n",
       "</table>\n",
       "</div>"
      ],
      "text/plain": [
       "         marital age_1st_mar  age  hispanich  indian  asian  black  HAWAIIAN  \\\n",
       "0  Never Married               23          1       2      2      2         2   \n",
       "1        Married          23   28          1       2      2      2         2   \n",
       "2        Widowed          35   81          1       2      2      2         2   \n",
       "3  Never Married               18          1       2      2      2         2   \n",
       "4        Married          22   36          2       2      2      1         2   \n",
       "\n",
       "   WHITE how_mar_ended                    edu  ETHNICITY  \n",
       "0      1                Completed high school  hispanich  \n",
       "1      1                Completed high school  hispanich  \n",
       "2      1             2                      8  hispanich  \n",
       "3      1                Completed high school  hispanich  \n",
       "4      2                           bachelor's      black  "
      ]
     },
     "execution_count": 17,
     "metadata": {},
     "output_type": "execute_result"
    }
   ],
   "source": [
    "data2.head(5)"
   ]
  },
  {
   "cell_type": "code",
   "execution_count": 23,
   "metadata": {
    "collapsed": false
   },
   "outputs": [],
   "source": [
    "pickle_data(data2)"
   ]
  }
 ],
 "metadata": {
  "anaconda-cloud": {},
  "kernelspec": {
   "display_name": "Python [Root]",
   "language": "python",
   "name": "Python [Root]"
  },
  "language_info": {
   "codemirror_mode": {
    "name": "ipython",
    "version": 3
   },
   "file_extension": ".py",
   "mimetype": "text/x-python",
   "name": "python",
   "nbconvert_exporter": "python",
   "pygments_lexer": "ipython3",
   "version": "3.5.2"
  }
 },
 "nbformat": 4,
 "nbformat_minor": 0
}
